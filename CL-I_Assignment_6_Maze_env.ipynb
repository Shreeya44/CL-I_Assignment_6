{
 "cells": [
  {
   "cell_type": "markdown",
   "id": "c3aa1660",
   "metadata": {},
   "source": [
    "### CL-I Assignment No. 6\n",
    "#### Name:Parkale Shreya Jagdish\n",
    "#### Roll No.: 2447060\n",
    "#### Batch : C\n",
    "#### Reinforcement Learning:\n",
    "Implement Reinforcement Learning using an example of a maze environment that the \n",
    "agent needs to explore. "
   ]
  },
  {
   "cell_type": "code",
   "execution_count": 1,
   "id": "67faf6de",
   "metadata": {},
   "outputs": [],
   "source": [
    "import numpy as np\n",
    "import random\n",
    "import matplotlib.pyplot as plt"
   ]
  },
  {
   "cell_type": "code",
   "execution_count": 2,
   "id": "75764bdc",
   "metadata": {},
   "outputs": [],
   "source": [
    "# Define the maze environment\n",
    "maze = np.array([\n",
    "    [0, -1, 0, 0, 0, 0, 1],  # 1 is the goal, -1 are obstacles, 0 are free cells\n",
    "    [0, -1, 0, -1, 0, -1, -1],\n",
    "    [0, 0, 0, -1, 0, 0, 0],\n",
    "    [-1, -1, 0, -1, 0, -1, 0],\n",
    "    [0, 0, 0, 0, 0, -1, 0]\n",
    "])"
   ]
  },
  {
   "cell_type": "code",
   "execution_count": 3,
   "id": "75b38b4f",
   "metadata": {},
   "outputs": [],
   "source": [
    "# Parameters\n",
    "num_episodes = 1000\n",
    "learning_rate = 0.1  # alpha\n",
    "discount_factor = 0.9  # gamma\n",
    "epsilon = 0.1  # exploration rate\n",
    "actions = ['up', 'down', 'left', 'right']\n"
   ]
  },
  {
   "cell_type": "code",
   "execution_count": 4,
   "id": "3a74554d",
   "metadata": {},
   "outputs": [],
   "source": [
    "# Maze dimensions\n",
    "rows, cols = maze.shape"
   ]
  },
  {
   "cell_type": "code",
   "execution_count": 5,
   "id": "56df195a",
   "metadata": {},
   "outputs": [],
   "source": [
    "# Q-table initialization (rows * cols * num_actions)\n",
    "Q_table = np.zeros((rows, cols, len(actions)))"
   ]
  },
  {
   "cell_type": "code",
   "execution_count": 6,
   "id": "18e0f027",
   "metadata": {},
   "outputs": [],
   "source": [
    "# Define movements\n",
    "def move(state, action):\n",
    "    row, col = state\n",
    "    if action == 'up':\n",
    "        row = max(0, row - 1)\n",
    "    elif action == 'down':\n",
    "        row = min(rows - 1, row + 1)\n",
    "    elif action == 'left':\n",
    "        col = max(0, col - 1)\n",
    "    elif action == 'right':\n",
    "        col = min(cols - 1, col + 1)\n",
    "    return (row, col)"
   ]
  },
  {
   "cell_type": "code",
   "execution_count": 7,
   "id": "aeea8ca2",
   "metadata": {},
   "outputs": [],
   "source": [
    "# Choose action based on epsilon-greedy policy\n",
    "def choose_action(state):\n",
    "    if np.random.rand() < epsilon:\n",
    "        return random.choice(actions)  # Explore: random action\n",
    "    else:\n",
    "        row, col = state\n",
    "        return actions[np.argmax(Q_table[row, col])]  # Exploit: best known action"
   ]
  },
  {
   "cell_type": "code",
   "execution_count": 8,
   "id": "192a8d2c",
   "metadata": {},
   "outputs": [],
   "source": [
    "# Train Q-learning agent\n",
    "for episode in range(num_episodes):\n",
    "    state = (0, 0)  # Start state\n",
    "    while True:\n",
    "        row, col = state\n",
    "        if maze[row, col] == 1:  # Goal state\n",
    "            break\n",
    "        action = choose_action(state)\n",
    "        next_state = move(state, action)\n",
    "        next_row, next_col = next_state\n",
    "\n",
    "        # Reward system\n",
    "        if maze[next_row, next_col] == 1:\n",
    "            reward = 10  # Reached goal\n",
    "        elif maze[next_row, next_col] == -1:\n",
    "            reward = -5  # Hit obstacle\n",
    "        else:\n",
    "            reward = -1  # Regular step\n",
    "\n",
    "        # Q-value update (Q-learning formula)\n",
    "        current_q = Q_table[row, col, actions.index(action)]\n",
    "        max_future_q = np.max(Q_table[next_row, next_col])  # Best Q-value for next state\n",
    "        new_q = (1 - learning_rate) * current_q + learning_rate * (reward + discount_factor * max_future_q)\n",
    "        Q_table[row, col, actions.index(action)] = new_q\n",
    "\n",
    "        # Move to the next state\n",
    "        state = next_state"
   ]
  },
  {
   "cell_type": "code",
   "execution_count": 9,
   "id": "3cf715fd",
   "metadata": {},
   "outputs": [
    {
     "name": "stdout",
     "output_type": "stream",
     "text": [
      "Q-table after training:\n",
      "[[[-3.13105652 -2.25159022 -3.22609886 -2.53557237]\n",
      "  [-2.15791552 -1.46905298 -1.21816348  3.11602738]\n",
      "  [ 2.97392257  1.71856719 -2.28508814  4.58      ]\n",
      "  [ 4.42283478 -1.0599596   2.89934072  6.2       ]\n",
      "  [ 5.95409213  3.96805323  4.10353478  8.        ]\n",
      "  [ 7.5873546   1.06120773  5.61907564 10.        ]\n",
      "  [ 0.          0.          0.          0.        ]]\n",
      "\n",
      " [[-3.17782573 -1.3906558  -2.49826955 -3.59268612]\n",
      "  [-1.66868051 -1.22433264 -1.70342465  1.80047257]\n",
      "  [ 3.122       0.43036557 -3.50094077 -1.2385811 ]\n",
      "  [ 4.56681503 -1.74792324  0.27054243 -0.23114545]\n",
      "  [ 6.04968426 -0.55609051 -0.5657928  -0.68129604]\n",
      "  [ 7.6906121  -0.24222733 -0.1        -0.41      ]\n",
      "  [ 2.71        0.          0.          0.        ]]\n",
      "\n",
      " [[-2.43136316 -5.8884232  -1.52627887 -0.434062  ]\n",
      "  [-3.47932689 -5.33258536 -1.62276877  0.62882   ]\n",
      "  [ 1.8098     -0.94928721 -0.59979673 -4.52471293]\n",
      "  [-0.96730828 -1.01207688  0.51799017 -0.60937853]\n",
      "  [ 0.20840219 -0.91050817 -0.96791    -0.87471093]\n",
      "  [-0.95       -1.38749    -0.86384582 -0.84070007]\n",
      "  [-0.779      -0.79586448 -0.86963143 -0.86482753]]\n",
      "\n",
      " [[-1.38725185 -1.71809926 -1.48505    -1.921631  ]\n",
      "  [-0.48430598 -1.24489425 -1.50537205 -1.30043047]\n",
      "  [ 0.4847205  -2.19609782 -2.54403206 -2.77860303]\n",
      "  [-0.9862353  -0.91923131 -0.91337251 -0.84248022]\n",
      "  [-1.27599346 -1.37754279 -2.18503195 -1.364     ]\n",
      "  [-0.32313642 -0.5        -0.22561822 -0.32255184]\n",
      "  [-0.90383603 -0.85578771 -0.96791    -0.86392354]]\n",
      "\n",
      " [[-2.57043369 -2.51551813 -2.52794273 -2.55517908]\n",
      "  [-2.8278364  -2.43750059 -2.36902409 -2.42650619]\n",
      "  [-2.04916563 -2.20913928 -2.23003556 -2.19598949]\n",
      "  [-2.15018493 -1.9836941  -2.03361923 -2.00930205]\n",
      "  [-1.70326719 -1.73518854 -1.7795948  -1.76307161]\n",
      "  [-0.5        -0.5        -0.42006367 -0.32244481]\n",
      "  [-0.91618875 -0.86482753 -0.95981    -0.86482753]]]\n"
     ]
    }
   ],
   "source": [
    "# Display the learned Q-table for each state and action\n",
    "print(\"Q-table after training:\")\n",
    "print(Q_table)"
   ]
  },
  {
   "cell_type": "code",
   "execution_count": 10,
   "id": "1876f280",
   "metadata": {},
   "outputs": [],
   "source": [
    "# Function to visualize the path taken by the agent\n",
    "def visualize_path():\n",
    "    state = (0, 0)\n",
    "    path = [state]\n",
    "    while state != (0, 6):  # Goal state\n",
    "        row, col = state\n",
    "        action = actions[np.argmax(Q_table[row, col])]\n",
    "        next_state = move(state, action)\n",
    "        path.append(next_state)\n",
    "        state = next_state\n",
    "    return path"
   ]
  },
  {
   "cell_type": "code",
   "execution_count": 11,
   "id": "2956ee68",
   "metadata": {},
   "outputs": [
    {
     "name": "stdout",
     "output_type": "stream",
     "text": [
      "Path found by the agent:\n",
      "[(0, 0), (1, 0), (2, 0), (2, 1), (2, 2), (1, 2), (0, 2), (0, 3), (0, 4), (0, 5), (0, 6)]\n"
     ]
    }
   ],
   "source": [
    "# Visualize the path found by the agent\n",
    "path = visualize_path()\n",
    "print(\"Path found by the agent:\")\n",
    "print(path)"
   ]
  },
  {
   "cell_type": "code",
   "execution_count": 12,
   "id": "deac1273",
   "metadata": {},
   "outputs": [],
   "source": [
    "# Plot the maze and path\n",
    "def plot_maze(maze, path):\n",
    "    plt.imshow(maze, cmap='coolwarm', interpolation='none')\n",
    "    path_x = [p[1] for p in path]\n",
    "    path_y = [p[0] for p in path]\n",
    "    plt.plot(path_x, path_y, color='black', marker='o', linestyle='-', linewidth=2, markersize=8)\n",
    "    plt.show()"
   ]
  },
  {
   "cell_type": "code",
   "execution_count": 13,
   "id": "263d0a74",
   "metadata": {},
   "outputs": [
    {
     "data": {
      "image/png": "[encoded data removed]",
      "text/plain": [
       "<Figure size 640x480 with 1 Axes>"
      ]
     },
     "metadata": {},
     "output_type": "display_data"
    }
   ],
   "source": [
    "plot_maze(maze, path)"
   ]
  }
 ],
 "metadata": {
  "kernelspec": {
   "display_name": "Python 3 (ipykernel)",
   "language": "python",
   "name": "python3"
  },
  "language_info": {
   "codemirror_mode": {
    "name": "ipython",
    "version": 3
   },
   "file_extension": ".py",
   "mimetype": "text/x-python",
   "name": "python",
   "nbconvert_exporter": "python",
   "pygments_lexer": "ipython3",
   "version": "3.9.13"
  }
 },
 "nbformat": 4,
 "nbformat_minor": 5
}
